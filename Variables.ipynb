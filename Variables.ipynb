{
 "cells": [
  {
   "cell_type": "code",
   "execution_count": 7,
   "metadata": {},
   "outputs": [
    {
     "name": "stdout",
     "output_type": "stream",
     "text": [
      "hola\n",
      "Otro\n"
     ]
    }
   ],
   "source": [
    "print (\"hola\")\n",
    "print (\"Otro\")"
   ]
  },
  {
   "cell_type": "code",
   "execution_count": 8,
   "metadata": {},
   "outputs": [
    {
     "name": "stdout",
     "output_type": "stream",
     "text": [
      "3\n",
      "Esto es un texto\n"
     ]
    }
   ],
   "source": [
    "unNumero = 3\n",
    "otroNumero = 2\n",
    "unTexto = \"Esto es un texto\"\n",
    "print (unNumero)\n",
    "print(unTexto)\n"
   ]
  },
  {
   "cell_type": "code",
   "execution_count": 9,
   "metadata": {},
   "outputs": [
    {
     "data": {
      "text/plain": [
       "int"
      ]
     },
     "execution_count": 9,
     "metadata": {},
     "output_type": "execute_result"
    }
   ],
   "source": [
    "type (unNumero)"
   ]
  },
  {
   "cell_type": "code",
   "execution_count": 10,
   "metadata": {},
   "outputs": [
    {
     "name": "stdout",
     "output_type": "stream",
     "text": [
      "3\n"
     ]
    }
   ],
   "source": [
    "resultado = unNumero\n",
    "print (resultado)"
   ]
  },
  {
   "cell_type": "code",
   "execution_count": 11,
   "metadata": {},
   "outputs": [
    {
     "name": "stdout",
     "output_type": "stream",
     "text": [
      "3\n"
     ]
    }
   ],
   "source": [
    "resultado = unNumero\n",
    "print(resultado)"
   ]
  },
  {
   "cell_type": "code",
   "execution_count": 12,
   "metadata": {},
   "outputs": [
    {
     "data": {
      "text/plain": [
       "bool"
      ]
     },
     "execution_count": 12,
     "metadata": {},
     "output_type": "execute_result"
    }
   ],
   "source": [
    "unBooleano = True\n",
    "type(unBooleano)"
   ]
  },
  {
   "cell_type": "code",
   "execution_count": 13,
   "metadata": {},
   "outputs": [
    {
     "name": "stdout",
     "output_type": "stream",
     "text": [
      "(3+2j)\n"
     ]
    },
    {
     "data": {
      "text/plain": [
       "complex"
      ]
     },
     "execution_count": 13,
     "metadata": {},
     "output_type": "execute_result"
    }
   ],
   "source": [
    "comp= 3 + 2j\n",
    "print (comp)\n",
    "type (comp )"
   ]
  },
  {
   "cell_type": "code",
   "execution_count": 14,
   "metadata": {},
   "outputs": [
    {
     "data": {
      "text/plain": [
       "float"
      ]
     },
     "execution_count": 14,
     "metadata": {},
     "output_type": "execute_result"
    }
   ],
   "source": [
    "unFloat = 2.4\n",
    "type (unFloat)"
   ]
  },
  {
   "cell_type": "code",
   "execution_count": 15,
   "metadata": {},
   "outputs": [
    {
     "name": "stdout",
     "output_type": "stream",
     "text": [
      "valor 3\n"
     ]
    }
   ],
   "source": [
    "print (\"valor\", unNumero)"
   ]
  },
  {
   "cell_type": "code",
   "execution_count": null,
   "metadata": {},
   "outputs": [],
   "source": []
  },
  {
   "cell_type": "code",
   "execution_count": null,
   "metadata": {},
   "outputs": [],
   "source": [
    "entrada = input (\"Escribe Algo\")\n",
    "print(\"Escrito\", entrada)\n",
    "type (entrada)\n"
   ]
  },
  {
   "cell_type": "code",
   "execution_count": null,
   "metadata": {},
   "outputs": [
    {
     "name": "stdout",
     "output_type": "stream",
     "text": [
      "Escrito 23\n"
     ]
    },
    {
     "data": {
      "text/plain": [
       "int"
      ]
     },
     "execution_count": 2,
     "metadata": {},
     "output_type": "execute_result"
    }
   ],
   "source": [
    "entrada = int (input(\"Escribe un numero:\"))\n",
    "print(\"Escrito\", entrada)\n",
    "type(entrada)"
   ]
  },
  {
   "cell_type": "code",
   "execution_count": null,
   "metadata": {},
   "outputs": [
    {
     "data": {
      "text/plain": [
       "list"
      ]
     },
     "execution_count": 4,
     "metadata": {},
     "output_type": "execute_result"
    }
   ],
   "source": [
    "unaListaNum = [2,66,344,5,6]\n",
    "type(unaListaNum)"
   ]
  },
  {
   "cell_type": "code",
   "execution_count": null,
   "metadata": {},
   "outputs": [
    {
     "name": "stdout",
     "output_type": "stream",
     "text": [
      "['Tectos', 1, True]\n",
      "Tectos\n"
     ]
    }
   ],
   "source": [
    "cajonDesastre = [\"Textos\",1, True]\n",
    "print (cajonDesastre)\n",
    "print(cajonDesastre[0])"
   ]
  },
  {
   "cell_type": "code",
   "execution_count": null,
   "metadata": {},
   "outputs": [
    {
     "name": "stdout",
     "output_type": "stream",
     "text": [
      "['numero', 1, True]\n"
     ]
    }
   ],
   "source": [
    "cajonDesastre[0]=\"numero\"\n",
    "print(cajonDesastre)"
   ]
  },
  {
   "cell_type": "code",
   "execution_count": null,
   "metadata": {},
   "outputs": [
    {
     "name": "stdout",
     "output_type": "stream",
     "text": [
      "True\n"
     ]
    }
   ],
   "source": [
    "unTupla = (\"Textos\",1, True)\n",
    "print (unTupla[2])"
   ]
  },
  {
   "cell_type": "code",
   "execution_count": null,
   "metadata": {},
   "outputs": [
    {
     "data": {
      "text/plain": [
       "('Textos', 1)"
      ]
     },
     "execution_count": 8,
     "metadata": {},
     "output_type": "execute_result"
    }
   ],
   "source": [
    "unTupla[0:2]"
   ]
  },
  {
   "cell_type": "code",
   "execution_count": null,
   "metadata": {},
   "outputs": [
    {
     "name": "stdout",
     "output_type": "stream",
     "text": [
      "{1, 'Textos'}\n"
     ]
    },
    {
     "data": {
      "text/plain": [
       "set"
      ]
     },
     "execution_count": 11,
     "metadata": {},
     "output_type": "execute_result"
    }
   ],
   "source": [
    "unConjunto ={\"Textos\",1, True}\n",
    "print (unConjunto)\n",
    "type (unConjunto)"
   ]
  },
  {
   "cell_type": "code",
   "execution_count": null,
   "metadata": {},
   "outputs": [
    {
     "name": "stdout",
     "output_type": "stream",
     "text": [
      "{'texto': 'Un texto', 'Numero': 34, 'Booleano': False}\n"
     ]
    },
    {
     "data": {
      "text/plain": [
       "34"
      ]
     },
     "execution_count": 14,
     "metadata": {},
     "output_type": "execute_result"
    }
   ],
   "source": [
    "unDiccionario = {\"texto\":\"Un texto\",\"Numero\":34, \"Booleano\":False}\n",
    "print(unDiccionario)\n",
    "type(unDiccionario)\n",
    "unDiccionario[\"Numero\"]"
   ]
  },
  {
   "cell_type": "code",
   "execution_count": null,
   "metadata": {},
   "outputs": [
    {
     "name": "stdout",
     "output_type": "stream",
     "text": [
      "('Tobi', 'Chispas', 'Ros') {'Tobi': 'Perro', 'Chispas': 'Huron', 'Ros': 'Gato'} ['Tobi', 'Perro', 5, 10, 'Chispas', 'Chispas', 2, 3, 'Ros', 'Gato', 4, 3]\n",
      "{3, 4, 5, 'Tobi', 'Gato', 'Ros', 10, 'Cirugia', 'Consulta', 'Perro'}\n"
     ]
    }
   ],
   "source": [
    "tplMascotas = (\"Tobi\", \"Chispas\", \"Ros\")\n",
    "dicMascotas = {\"Tobi\":\"Perro\", \"Chispas\":\"Huron\", \"Ros\":\"Gato\"}\n",
    "lstMascotas = [\"Tobi\",\"Perro\",5,10,\"Chispas\",\"Chispas\",2,3,\"Ros\",\"Gato\",4,3]\n",
    "cjtMascotas ={\"Cirugia\",\"Tobi\",\"Perro\",5,10,\"Consulta\",\"Ros\",\"Gato\",4,3}\n",
    "print (tplMascotas,dicMascotas,lstMascotas)\n",
    "print (cjtMascotas)\n",
    "\n",
    "\n"
   ]
  },
  {
   "cell_type": "code",
   "execution_count": null,
   "metadata": {},
   "outputs": [
    {
     "name": "stdout",
     "output_type": "stream",
     "text": [
      "segunda foca {'Nombre': 'Flippeer2', 'Tipo': 'foca', 'eded': 10, 'peso': 120}\n"
     ]
    }
   ],
   "source": [
    "dicLazy = {\"Nombre\":\"Lazy\",\"Tipo\":\"perro\",\"eded\":10,\"peso\":120}\n",
    "dicLazy2 = {\"Nombre\":\"Lazy\",\"Tipo\":\"perro\",\"eded\":10,\"peso\":10}\n",
    "dicFlipper = {\"Nombre\":\"Flippeer\",\"Tipo\":\"foca\",\"eded\":10,\"peso\":120}\n",
    "dicFlipper2 = {\"Nombre\":\"Flippeer2\",\"Tipo\":\"foca\",\"eded\":10,\"peso\":120}\n",
    "lstPerros = [dicLazy,dicLazy2]\n",
    "lstFocas = [dicFlipper,dicFlipper2]\n",
    "dicVeterinaria ={\"Perros\":lstPerros, \"focas\":lstFocas}\n",
    "\n",
    "print(\"segunda foca\",dicVeterinaria[\"focas\"][1])  "
   ]
  }
 ],
 "metadata": {
  "kernelspec": {
   "display_name": "Python 3 (ipykernel)",
   "language": "python",
   "name": "python3"
  },
  "language_info": {
   "codemirror_mode": {
    "name": "ipython",
    "version": 3
   },
   "file_extension": ".py",
   "mimetype": "text/x-python",
   "name": "python",
   "nbconvert_exporter": "python",
   "pygments_lexer": "ipython3",
   "version": "3.10.11"
  }
 },
 "nbformat": 4,
 "nbformat_minor": 2
}
