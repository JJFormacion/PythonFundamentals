{
 "cells": [
  {
   "cell_type": "code",
   "execution_count": 7,
   "metadata": {},
   "outputs": [
    {
     "name": "stdout",
     "output_type": "stream",
     "text": [
      "no es mayor a 2\n",
      "Hola esta en la frase\n"
     ]
    }
   ],
   "source": [
    "n = 1\n",
    "if n>=2 :\n",
    "    print (\"Si, es >=2\")\n",
    "elif n >= 5:\n",
    "    print(\"mayor 5\")\n",
    "    \n",
    "else :\n",
    "    print (\"no es mayor a 2\")\n",
    "# CTRL +SHIFT +F \n",
    "\n",
    "n=n*2\n",
    "txt=\"Hola\"\n",
    "if txt in \"Hola mundo\": \n",
    "    print (\"Hola esta en la frase\")"
   ]
  }
 ],
 "metadata": {
  "kernelspec": {
   "display_name": "Python 3 (ipykernel)",
   "language": "python",
   "name": "python3"
  },
  "language_info": {
   "codemirror_mode": {
    "name": "ipython",
    "version": 3
   },
   "file_extension": ".py",
   "mimetype": "text/x-python",
   "name": "python",
   "nbconvert_exporter": "python",
   "pygments_lexer": "ipython3",
   "version": "3.10.11"
  }
 },
 "nbformat": 4,
 "nbformat_minor": 2
}
