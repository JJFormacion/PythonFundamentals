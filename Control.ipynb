{
 "cells": [
  {
   "cell_type": "code",
   "execution_count": null,
   "metadata": {},
   "outputs": [
    {
     "name": "stdout",
     "output_type": "stream",
     "text": [
      "mayor 5\n",
      "Seis\n",
      "Hola esta en la frase\n"
     ]
    }
   ],
   "source": [
    "n = 6\n",
    "if n<=2 :\n",
    "    print (\"Si, es <=2\")\n",
    "elif n >= 5:\n",
    "    print(\"mayor 5\")\n",
    "    if n == 6:\n",
    "        print(\"Seis\")\n",
    "    else :\n",
    "        pint(\"no seis\")\n",
    "\n",
    "    \n",
    "else :\n",
    "    print (\"no es mayor a 2\")\n",
    "# CTRL +SHIFT +F \n",
    "\n"
   ]
  },
  {
   "cell_type": "code",
   "execution_count": null,
   "metadata": {},
   "outputs": [],
   "source": [
    "n=n*2\n",
    "txt=\"Hola\"\n",
    "if txt in \"Hola mundo\": \n",
    "    print (\"Hola esta en la frase\")"
   ]
  },
  {
   "cell_type": "code",
   "execution_count": 33,
   "metadata": {},
   "outputs": [
    {
     "name": "stdout",
     "output_type": "stream",
     "text": [
      "a 3\n",
      "no sigo\n",
      "z 0\n",
      "menor que 2\n",
      "salgo!\n",
      "1\n",
      "2\n",
      "3\n",
      "4\n"
     ]
    }
   ],
   "source": [
    "l1 = [1,2,3,4]\n",
    "t1= (1,2,3,4)\n",
    "d1={\"a\":3,\"z\":0,\"b\":2,\"c\":3}\n",
    "for key,val in d1.items():\n",
    "    print (key,val)\n",
    "\n",
    "    if val > 1:\n",
    "        print(\"no sigo\")\n",
    "        continue\n",
    "    if val >2:\n",
    "        print(\"mayor 2\")\n",
    "    else :\n",
    "        print (\"menor que 2\")\n",
    "    if val==0:\n",
    "        print(\"salgo!\")\n",
    "        break\n",
    "\n",
    "for num in t1 :\n",
    "    print (num)\n"
   ]
  },
  {
   "cell_type": "code",
   "execution_count": 56,
   "metadata": {},
   "outputs": [
    {
     "name": "stdout",
     "output_type": "stream",
     "text": [
      "0\n",
      "1\n",
      "2\n",
      "3\n",
      "4\n",
      "5\n",
      "6\n",
      "7\n",
      "8\n",
      "9\n",
      "fuera\n"
     ]
    }
   ],
   "source": [
    "contador = 0\n",
    "nsec=10\n",
    "while contador <12 :\n",
    "    print (contador)\n",
    "    contador += 1 # contador = contador + 1\n",
    "    nsec = nsec -1\n",
    "\n",
    "    if nsec == 0:\n",
    "        break \n",
    "\n",
    "print (\"fuera\")"
   ]
  },
  {
   "cell_type": "code",
   "execution_count": 63,
   "metadata": {},
   "outputs": [
    {
     "name": "stdout",
     "output_type": "stream",
     "text": [
      "1\n",
      "2\n",
      "3\n",
      "4\n",
      "5\n",
      "6\n"
     ]
    }
   ],
   "source": [
    "l1=[1,2,3,4,5,6]\n",
    "\n",
    "index=0\n",
    "\n",
    "while index < len(l1):\n",
    "    print (l1[index])\n",
    "    index += 1\n"
   ]
  },
  {
   "cell_type": "code",
   "execution_count": 68,
   "metadata": {},
   "outputs": [
    {
     "name": "stdout",
     "output_type": "stream",
     "text": [
      "a 3\n",
      "no sigo\n",
      "z 0\n",
      "menor que 2\n",
      "salgo!\n"
     ]
    }
   ],
   "source": [
    "d1={\"a\":3,\"z\":0,\"b\":2,\"c\":3, \"d\":4}\n",
    "l1=list(d1.items())\n",
    "l1\n",
    "idx=0\n",
    "while idx < len(l1):\n",
    "    key,val = l1[idx]\n",
    "    idx += 1\n",
    "    \n",
    "    print (key,val)\n",
    "\n",
    "    if val > 1:\n",
    "        print(\"no sigo\")\n",
    "        continue\n",
    "    if val >2:\n",
    "        print(\"mayor 2\")\n",
    "    else :\n",
    "        print (\"menor que 2\")\n",
    "    if val==0:\n",
    "        print(\"salgo!\")\n",
    "        break\n"
   ]
  },
  {
   "cell_type": "code",
   "execution_count": null,
   "metadata": {},
   "outputs": [
    {
     "name": "stdout",
     "output_type": "stream",
     "text": [
      "pon un numero\n",
      "pon 1, 2, 3, 4\n",
      "pon un numero\n",
      "pon 1, 2, 3, 4\n"
     ]
    },
    {
     "name": "stdout",
     "output_type": "stream",
     "text": [
      "pon un numero\n",
      "pon 1, 2, 3, 4\n"
     ]
    }
   ],
   "source": [
    "opcion = 0\n",
    "while  opcion != 4:\n",
    "    try:\n",
    "        opcion = int(input (\" escoge entre 1 2 3 4\"))\n",
    "    except:\n",
    "        print(\"pon un numero\")\n",
    "    \n",
    "    if (opcion<=0 or opcion>4):\n",
    "        print(\"pon 1, 2, 3, 4\")\n",
    "    else :\n",
    "\n",
    "        print(\"has escogido:\", opcion)\n",
    "        if opcion == 4:\n",
    "            print (\"saLGO\")\n"
   ]
  },
  {
   "cell_type": "code",
   "execution_count": 6,
   "metadata": {},
   "outputs": [
    {
     "name": "stdout",
     "output_type": "stream",
     "text": [
      "('a', 3)\n",
      "a\n",
      "3\n",
      "('z', 0)\n",
      "z\n",
      "0\n",
      "('b', 2)\n",
      "b\n",
      "2\n",
      "('c', 3)\n",
      "c\n",
      "3\n",
      "('d', 4)\n",
      "d\n",
      "4\n"
     ]
    }
   ],
   "source": [
    "d1={\"a\":3,\"z\":0,\"b\":2,\"c\":3, \"d\":4}\n",
    "l1=list(d1.items())\n",
    "\n",
    "for fila in l1:\n",
    "    print(fila)\n",
    "    for col in fila:\n",
    "        print (col)"
   ]
  },
  {
   "cell_type": "code",
   "execution_count": 12,
   "metadata": {},
   "outputs": [
    {
     "name": "stdout",
     "output_type": "stream",
     "text": [
      "n el mayor\n"
     ]
    }
   ],
   "source": [
    "n = 2\n",
    "m = 0\n",
    "r =1\n",
    "if n > m and n >r:\n",
    "    print(\"n el mayor\")\n",
    "else :\n",
    "\n",
    "    if m > r:\n",
    "        print (\"m es el mayor\")\n",
    "    else :\n",
    "        print (\" r es el mayor\")\n"
   ]
  },
  {
   "cell_type": "code",
   "execution_count": 14,
   "metadata": {},
   "outputs": [
    {
     "name": "stdout",
     "output_type": "stream",
     "text": [
      "8\n"
     ]
    }
   ],
   "source": [
    "nums= [2,5,8,6,2]\n",
    "mayor  = 0\n",
    "\n",
    "for num in nums:\n",
    "    if  (num > mayor):\n",
    "        mayor = num\n",
    "print(mayor)\n",
    "    "
   ]
  },
  {
   "cell_type": "code",
   "execution_count": 15,
   "metadata": {},
   "outputs": [
    {
     "name": "stdout",
     "output_type": "stream",
     "text": [
      "4\n"
     ]
    }
   ],
   "source": [
    "d1={\"a\":3,\"z\":0,\"b\":2,\"c\":3, \"d\":4}\n",
    "mayor  = 0\n",
    "\n",
    "for key, val in d1.items():\n",
    "    if  (val > mayor):\n",
    "        mayor = val\n",
    "print(mayor)\n",
    "    "
   ]
  },
  {
   "cell_type": "code",
   "execution_count": 36,
   "metadata": {},
   "outputs": [
    {
     "name": "stdout",
     "output_type": "stream",
     "text": [
      "Pasa\n",
      "Pasa\n",
      "No puedes esntrar\n",
      "No puedes esntrar\n",
      "Pasa\n",
      "No puedes esntrar\n",
      "Pasa\n",
      "No puedes esntrar\n",
      "Pasa\n",
      "completo\n"
     ]
    }
   ],
   "source": [
    "tplDNI=(2,3,5,62,23)\n",
    "\n",
    "lstDNI = list(tplDNI)\n",
    "elem = 0\n",
    "\n",
    "while len(lstDNI) > 0:\n",
    "    entrada = int(input(\"DNI:\"))\n",
    "   \n",
    "    if entrada in lstDNI:\n",
    "        print(\"Pasa\")\n",
    "        lstDNI.remove(entrada)\n",
    "                   \n",
    "    else:\n",
    "        print(\"No puedes esntrar\")\n",
    "\n",
    "if len(lstDNI) == 0:\n",
    "    print(\"completo\")"
   ]
  },
  {
   "cell_type": "code",
   "execution_count": null,
   "metadata": {},
   "outputs": [],
   "source": []
  }
 ],
 "metadata": {
  "kernelspec": {
   "display_name": "Python 3 (ipykernel)",
   "language": "python",
   "name": "python3"
  }
 },
 "nbformat": 4,
 "nbformat_minor": 2
}
