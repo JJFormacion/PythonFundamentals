{
 "cells": [
  {
   "cell_type": "code",
   "execution_count": 3,
   "metadata": {},
   "outputs": [
    {
     "name": "stdout",
     "output_type": "stream",
     "text": [
      "Texto a imprimir\n",
      "Hola\n"
     ]
    }
   ],
   "source": [
    "def imprimeTexto(texto):\n",
    "    print(texto)\n",
    "\n",
    "imprimeTexto('Texto a imprimir')\n",
    "imprimeTexto('Hola')"
   ]
  },
  {
   "cell_type": "code",
   "execution_count": 1,
   "metadata": {},
   "outputs": [
    {
     "name": "stdout",
     "output_type": "stream",
     "text": [
      "Palabra !!!\n",
      "22\n",
      "texto prueba!!!\n",
      "22\n"
     ]
    }
   ],
   "source": [
    "texto = 'Palabra '\n",
    "un_numero= 22\n",
    "\n",
    "def imprimeTexto(texto):\n",
    "    texto=texto + '!!!'\n",
    "    print(texto)\n",
    "    #un_numero += 10\n",
    "    print(un_numero)\n",
    "\n",
    "imprimeTexto(texto)\n",
    "\n",
    "texto = 'texto prueba'\n",
    "imprimeTexto (texto)\n"
   ]
  },
  {
   "cell_type": "code",
   "execution_count": 17,
   "metadata": {},
   "outputs": [
    {
     "name": "stdout",
     "output_type": "stream",
     "text": [
      "texto prueba!!!\n",
      "32\n"
     ]
    }
   ],
   "source": [
    "\n",
    "num = 22\n",
    "\n",
    "def imprimeTextoMas(texto, num):\n",
    "    texto=texto + '!!!'\n",
    "    print(texto)\n",
    "    num += 10\n",
    "    print(num)\n",
    "\n",
    "imprimeTextoMas (texto, un_numero)"
   ]
  },
  {
   "cell_type": "code",
   "execution_count": 25,
   "metadata": {},
   "outputs": [
    {
     "name": "stdout",
     "output_type": "stream",
     "text": [
      "350.0\n",
      "Informe con: 350.0\n"
     ]
    },
    {
     "ename": "TypeError",
     "evalue": "'int' object is not iterable",
     "output_type": "error",
     "traceback": [
      "\u001b[0;31m---------------------------------------------------------------------------\u001b[0m",
      "\u001b[0;31mTypeError\u001b[0m                                 Traceback (most recent call last)",
      "Cell \u001b[0;32mIn[25], line 22\u001b[0m\n\u001b[1;32m     19\u001b[0m todas_las_ventas \u001b[38;5;241m=\u001b[39m [\u001b[38;5;241m122\u001b[39m, \u001b[38;5;241m3444\u001b[39m, \u001b[38;5;241m5555\u001b[39m, \u001b[38;5;241m555\u001b[39m, \u001b[38;5;241m5553\u001b[39m, \u001b[38;5;241m223212\u001b[39m]\n\u001b[1;32m     21\u001b[0m \u001b[38;5;28;01mfor\u001b[39;00m unas_ventas \u001b[38;5;129;01min\u001b[39;00m todas_las_ventas:\n\u001b[0;32m---> 22\u001b[0m     valor_comision \u001b[38;5;241m=\u001b[39m \u001b[38;5;28mint\u001b[39m(\u001b[43mcalculo_comision\u001b[49m\u001b[43m(\u001b[49m\u001b[43munas_ventas\u001b[49m\u001b[43m,\u001b[49m\u001b[43m \u001b[49m\u001b[43mporcentaje\u001b[49m\u001b[43m)\u001b[49m)\n\u001b[1;32m     23\u001b[0m     \u001b[38;5;28mprint\u001b[39m(\u001b[38;5;124m'\u001b[39m\u001b[38;5;124minforme co:\u001b[39m\u001b[38;5;124m'\u001b[39m, valor_comision)\n",
      "Cell \u001b[0;32mIn[25], line 4\u001b[0m, in \u001b[0;36mcalculo_comision\u001b[0;34m(ventas, porc)\u001b[0m\n\u001b[1;32m      1\u001b[0m \u001b[38;5;28;01mdef\u001b[39;00m \u001b[38;5;21mcalculo_comision\u001b[39m(ventas, porc):\n\u001b[1;32m      2\u001b[0m       \u001b[38;5;66;03m#  comision = sum(ventas)*porc/100\u001b[39;00m\n\u001b[1;32m      3\u001b[0m     suma\u001b[38;5;241m=\u001b[39m \u001b[38;5;241m0\u001b[39m\n\u001b[0;32m----> 4\u001b[0m     \u001b[38;5;28;01mfor\u001b[39;00m venta \u001b[38;5;129;01min\u001b[39;00m ventas:\n\u001b[1;32m      5\u001b[0m         suma \u001b[38;5;241m+\u001b[39m\u001b[38;5;241m=\u001b[39mventa   \n\u001b[1;32m      7\u001b[0m     comision \u001b[38;5;241m=\u001b[39m suma\u001b[38;5;241m*\u001b[39mporc\u001b[38;5;241m/\u001b[39m\u001b[38;5;241m100\u001b[39m\n",
      "\u001b[0;31mTypeError\u001b[0m: 'int' object is not iterable"
     ]
    }
   ],
   "source": [
    "def calculo_comision(ventas, porc):\n",
    "      #  comision = sum(ventas)*porc/100\n",
    "    suma= 0\n",
    "    for venta in ventas:\n",
    "        suma +=venta   \n",
    "    \n",
    "    comision = suma*porc/100\n",
    "\n",
    "    print(comision)\n",
    "    return(comision)\n",
    "\n",
    "ventas_reales =[100, 3000, 400]\n",
    "porcentaje = 10\n",
    "\n",
    "valor_comision = calculo_comision(ventas_reales, porcentaje)\n",
    "\n",
    "print ('Informe con:', valor_comision)\n",
    "\n",
    "todas_las_ventas = [122, 3444, 5555, 555, 5553, 223212]\n",
    "\n",
    "for unas_ventas in todas_las_ventas:\n",
    "    valor_comision = int(calculo_comision(unas_ventas, porcentaje))\n",
    "    print('informe co:', valor_comision)\n"
   ]
  },
  {
   "cell_type": "code",
   "execution_count": 29,
   "metadata": {},
   "outputs": [
    {
     "name": "stdout",
     "output_type": "stream",
     "text": [
      "[1, 2, 3]\n",
      "[1, 2, 3, 4]\n"
     ]
    }
   ],
   "source": [
    "def addElementsLista(unaLista):\n",
    "    interno =list(unaLista)\n",
    "    unaLista.append(4)\n",
    "    return interno\n",
    "\n",
    "l1 = [1,2,3]\n",
    "l2 = addElementsLista(l1)\n",
    "\n",
    "print(l2)\n",
    "\n",
    "print(l1)\n"
   ]
  },
  {
   "cell_type": "code",
   "execution_count": 34,
   "metadata": {},
   "outputs": [
    {
     "name": "stdout",
     "output_type": "stream",
     "text": [
      "(1, 2, 3, 4)\n",
      "1 2 3 4\n",
      "2 4 6 8\n"
     ]
    }
   ],
   "source": [
    "def suma2(*args):\n",
    "    (a, b, c, d) =args\n",
    "    print(args)\n",
    "    print (a,b,c,d)\n",
    "    return (a*2, b*2, c*2, d*2)\n",
    "\n",
    "w, x, y, z = suma2(1,2,3,4)\n",
    "\n",
    "print (w, x, y ,z)"
   ]
  },
  {
   "cell_type": "code",
   "execution_count": 35,
   "metadata": {},
   "outputs": [
    {
     "name": "stdout",
     "output_type": "stream",
     "text": [
      "{'a': 1, 'b': 2, 'c': 3}\n"
     ]
    }
   ],
   "source": [
    "def suma4 (**args):\n",
    "    print(args)\n",
    "\n",
    "suma4(a=1, b=2, c=3)"
   ]
  },
  {
   "cell_type": "code",
   "execution_count": 9,
   "metadata": {},
   "outputs": [
    {
     "name": "stdout",
     "output_type": "stream",
     "text": [
      "1 2\n",
      "1 0\n"
     ]
    }
   ],
   "source": [
    "def suma5(a, b=0, c=0):\n",
    "    sum =0\n",
    "    if b:\n",
    "        sum = a + b\n",
    "    elif c:\n",
    "        sum += c\n",
    "    else :\n",
    "        sum = 5\n",
    "          \n",
    "    print(a,b)\n",
    "suma5(1,2)\n",
    "suma5(1)"
   ]
  },
  {
   "cell_type": "code",
   "execution_count": 38,
   "metadata": {},
   "outputs": [],
   "source": [
    "def suma6(a,b):\n",
    "    pass\n",
    "\n",
    "\n",
    "suma6(1,2)\n"
   ]
  },
  {
   "cell_type": "code",
   "execution_count": 41,
   "metadata": {},
   "outputs": [
    {
     "name": "stdout",
     "output_type": "stream",
     "text": [
      "1156\n",
      "1156\n"
     ]
    }
   ],
   "source": [
    "def cuadrado(n):\n",
    "    return n**2\n",
    "\n",
    "cuadradoL =lambda n: n**2\n",
    "\n",
    "type (cuadradoL)\n",
    "\n",
    "print (cuadrado(34))\n",
    "print (cuadradoL(34))"
   ]
  },
  {
   "cell_type": "code",
   "execution_count": 45,
   "metadata": {},
   "outputs": [
    {
     "name": "stdout",
     "output_type": "stream",
     "text": [
      "2\n",
      "<function miFunc at 0x7ffa50e5e4d0>\n",
      "4\n",
      "2\n",
      "<function <lambda> at 0x7ffa50e5de10>\n",
      "6\n"
     ]
    }
   ],
   "source": [
    "def funcespecial(num, unaFuncion):\n",
    "    print(num)\n",
    "    print(unaFuncion)\n",
    "    res = unaFuncion(num)\n",
    "    print(res)\n",
    "\n",
    "\n",
    "unNum= 2\n",
    "\n",
    "def miFunc(val):\n",
    "    return val*2\n",
    "\n",
    "funcespecial(unNum, miFunc)\n",
    "\n",
    "funcespecial(unNum, lambda x:x*3)\n"
   ]
  },
  {
   "cell_type": "code",
   "execution_count": null,
   "metadata": {},
   "outputs": [],
   "source": [
    "\n"
   ]
  },
  {
   "cell_type": "code",
   "execution_count": 48,
   "metadata": {},
   "outputs": [
    {
     "name": "stdout",
     "output_type": "stream",
     "text": [
      "\"pep\" es un palíndromo.\n"
     ]
    }
   ],
   "source": [
    "def es_palindromo(palabra):\n",
    "    # Convertir la palabra a minúsculas para evitar problemas con mayúsculas\n",
    "    palabra = palabra.lower()\n",
    "    # Comparar la palabra con su reverso\n",
    "    return palabra == palabra[::-1]\n",
    "\n",
    "# Ejemplo de uso\n",
    "palabra = input()\n",
    "if es_palindromo(palabra):\n",
    "    print(f'\"{palabra}\" es un palíndromo.')\n",
    "else:\n",
    "    print(f'\"{palabra}\" no es un palíndromo.')"
   ]
  },
  {
   "cell_type": "code",
   "execution_count": 51,
   "metadata": {},
   "outputs": [
    {
     "name": "stdout",
     "output_type": "stream",
     "text": [
      "[1, 5, 7, 9]\n"
     ]
    },
    {
     "data": {
      "text/plain": [
       "4"
      ]
     },
     "execution_count": 51,
     "metadata": {},
     "output_type": "execute_result"
    }
   ],
   "source": [
    "def contar_impares(numeros):\n",
    "    # Contar la cantidad de números impares en la lista\n",
    "    impares = [num for num in numeros if num % 2 != 0]\n",
    "    print (impares)\n",
    "    return len(impares)\n",
    "\n",
    "contar_impares([1, 5, 6,7 ,8 ,9])"
   ]
  },
  {
   "cell_type": "code",
   "execution_count": 52,
   "metadata": {},
   "outputs": [
    {
     "name": "stdout",
     "output_type": "stream",
     "text": [
      "[1, 5, 7, 9]\n"
     ]
    },
    {
     "data": {
      "text/plain": [
       "4"
      ]
     },
     "execution_count": 52,
     "metadata": {},
     "output_type": "execute_result"
    }
   ],
   "source": [
    "def contar_impares(numeros):\n",
    "    # Contar la cantidad de números impares en la lista\n",
    "    impares = []\n",
    "    for num in numeros:\n",
    "        if num % 2 != 0:\n",
    "            impares.append(num)\n",
    "        else :\n",
    "            continue\n",
    "        \n",
    "    print (impares)\n",
    "    return len(impares)\n",
    "\n",
    "contar_impares([1, 5, 6,7 ,8 ,9])"
   ]
  },
  {
   "cell_type": "code",
   "execution_count": null,
   "metadata": {},
   "outputs": [],
   "source": [
    "alumnos = [{\"Pepe\": (\"calle de al lado\", 35)},{\"Sonia\": (\"calle de abajo\", 25)}, {\"Juan\": (\"calle de arriba\", 45)}]\n",
    "\n",
    "def cambiMedio (listAlumnos):\n",
    "   \n",
    "    totalLetras = len(listAlumnos)\n",
    "    listAlumnos.replace()"
   ]
  }
 ],
 "metadata": {
  "kernelspec": {
   "display_name": "Python 3 (ipykernel)",
   "language": "python",
   "name": "python3"
  }
 },
 "nbformat": 4,
 "nbformat_minor": 2
}
