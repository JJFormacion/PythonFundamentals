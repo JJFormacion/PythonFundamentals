{
 "cells": [
  {
   "cell_type": "code",
   "execution_count": 2,
   "metadata": {},
   "outputs": [
    {
     "data": {
      "text/plain": [
       "nan"
      ]
     },
     "execution_count": 2,
     "metadata": {},
     "output_type": "execute_result"
    }
   ],
   "source": [
    "import math\n",
    "\n",
    "math.pi\n",
    "math.nan\n"
   ]
  },
  {
   "cell_type": "code",
   "execution_count": 7,
   "metadata": {},
   "outputs": [
    {
     "name": "stdout",
     "output_type": "stream",
     "text": [
      "3.141592653589793\n",
      "nan\n",
      "0.8939966636005579\n"
     ]
    }
   ],
   "source": [
    "from math import pi, nan, sin\n",
    "\n",
    "print(pi)\n",
    "print(nan)\n",
    "print(sin(90))"
   ]
  },
  {
   "cell_type": "code",
   "execution_count": 13,
   "metadata": {},
   "outputs": [
    {
     "name": "stdout",
     "output_type": "stream",
     "text": [
      "[1, 2, 3, 4, 5, 6, 7, 8, 9, 10, 11, 12, 13, 14, 15, 16, 17, 18, 19, 20, 21, 22, 23, 24, 25, 26, 27, 28, 29, 30, 31, 32, 33, 34, 35, 36, 37, 38, 39, 40, 41, 42, 43, 44, 45, 46, 47, 48, 49, 50, 51, 52, 53, 54, 55, 56, 57, 58, 59, 60, 61, 62, 63, 64, 65, 66, 67, 68, 69, 70, 71, 72, 73, 74, 75, 76, 77, 78, 79, 80, 81, 82, 83, 84, 85, 86, 87, 88, 89, 90, 91, 92, 93, 94, 95, 96, 97, 98, 99, 100, 101, 102, 103, 104, 105, 106, 107, 108, 109, 110, 111, 112, 113, 114, 115, 116, 117, 118, 119, 120, 121, 122, 123, 124, 125, 126, 127, 128, 129, 130, 131, 132, 133, 134, 135, 136, 137, 138, 139, 140, 141, 142, 143, 144, 145, 146, 147, 148, 149, 150, 151, 152, 153, 154, 155, 156, 157, 158, 159, 160, 161, 162, 163, 164, 165, 166, 167, 168, 169, 170, 171, 172, 173, 174, 175, 176, 177, 178, 179, 180, 181, 182, 183, 184, 185, 186, 187, 188, 189, 190, 191, 192, 193, 194, 195, 196, 197, 198]\n",
      "99.5 57.301832431432764 1\n"
     ]
    }
   ],
   "source": [
    "import statistics as st\n",
    "\n",
    "nums = list(range(1,199))\n",
    "print (nums)\n",
    "m = st.mean(nums)\n",
    "sd = st.stdev(nums)\n",
    "mod = st.mode(nums)\n",
    "\n",
    "print (m, sd, mod)\n",
    "\n",
    "\n",
    "\n"
   ]
  },
  {
   "cell_type": "markdown",
   "metadata": {},
   "source": [
    "Files"
   ]
  },
  {
   "cell_type": "code",
   "execution_count": 30,
   "metadata": {},
   "outputs": [
    {
     "name": "stdout",
     "output_type": "stream",
     "text": [
      "/mnt/batch/tasks/shared/LS_root/mounts/clusters/juan-jose-lopez/code\n"
     ]
    }
   ],
   "source": [
    "import os\n",
    "\n",
    "\n",
    "\n",
    "base_path = os.getcwd()\n",
    "print(os.getcwd())\n",
    "\n",
    "# raiz =  '/home/azureuser/cloudfiles/code/Users/FormacionJL/WorkSpace/PythonFundamentals/files/'\n",
    "raiz = base_path + '/Users/FormacionJL/WorkSpace/PythonFundamentals/files/'\n",
    "\n",
    "\n"
   ]
  },
  {
   "cell_type": "code",
   "execution_count": 35,
   "metadata": {},
   "outputs": [],
   "source": [
    "texto = \"\"\"esto es un\n",
    "texto de \n",
    "muchas linea 44\"\"\"\n",
    "\n",
    "try:\n",
    "    fout = open(raiz + 'sample.txt','w')\n",
    "    fout.write(texto)\n",
    "    fout.close()\n",
    "except error as err:\n",
    "    print('prueblema con acceso33', err)"
   ]
  },
  {
   "cell_type": "code",
   "execution_count": 37,
   "metadata": {},
   "outputs": [
    {
     "name": "stdout",
     "output_type": "stream",
     "text": [
      "esto es un\n",
      "texto de\n",
      "muchas linea 44\n"
     ]
    }
   ],
   "source": [
    "try:\n",
    "    fin = open(raiz + 'sample.txt','r')\n",
    "    for line in fin:\n",
    "        print(line.rstrip())\n",
    "\n",
    "except error as err:\n",
    "    print('prueblema con acceso33', err)"
   ]
  },
  {
   "cell_type": "code",
   "execution_count": 38,
   "metadata": {},
   "outputs": [
    {
     "name": "stdout",
     "output_type": "stream",
     "text": [
      "['esto es un\\n', 'texto de \\n', 'muchas linea 44']\n"
     ]
    }
   ],
   "source": [
    "try:\n",
    "    lista = open(raiz + 'sample.txt','r').readlines()\n",
    "    print(lista)\n",
    "\n",
    "except error as err:\n",
    "    print('prueblema con acceso33', err)"
   ]
  },
  {
   "cell_type": "code",
   "execution_count": 40,
   "metadata": {},
   "outputs": [
    {
     "name": "stdout",
     "output_type": "stream",
     "text": [
      "['esto es un', 'texto de', 'muchas linea 44']\n"
     ]
    }
   ],
   "source": [
    "try:\n",
    "    lista = open(raiz + 'sample.txt','r').readlines()\n",
    "    lista_limpia = list(map(lambda l: l.rstrip(),lista))\n",
    "    print(lista_limpia)\n",
    "\n",
    "except error as err:\n",
    "    print('prueblema con acceso33', err)"
   ]
  },
  {
   "cell_type": "code",
   "execution_count": 41,
   "metadata": {},
   "outputs": [
    {
     "name": "stdout",
     "output_type": "stream",
     "text": [
      "esto es un\n",
      "texto de \n",
      "muchas linea 44\n"
     ]
    }
   ],
   "source": [
    "try:\n",
    "    texto = open(raiz + 'sample.txt','r').read()\n",
    "\n",
    "    print(texto)\n",
    "\n",
    "except error as err:\n",
    "    print('prueblema con acceso33', err)"
   ]
  },
  {
   "cell_type": "code",
   "execution_count": 45,
   "metadata": {},
   "outputs": [
    {
     "ename": "FileNotFoundError",
     "evalue": "[Errno 2] No such file or directory: '/mnt/batch/tasks/shared/LS_root/mounts/clusters/juan-jose-lopez/code/Users/FormacionJL/WorkSpace/PythonFundamentals/files//sample.txt'",
     "output_type": "error",
     "traceback": [
      "\u001b[0;31m---------------------------------------------------------------------------\u001b[0m",
      "\u001b[0;31mFileNotFoundError\u001b[0m                         Traceback (most recent call last)",
      "Cell \u001b[0;32mIn[45], line 7\u001b[0m\n\u001b[1;32m      5\u001b[0m isok \u001b[38;5;241m=\u001b[39m os\u001b[38;5;241m.\u001b[39mpath\u001b[38;5;241m.\u001b[39misfile(f_path)\n\u001b[1;32m      6\u001b[0m \u001b[38;5;28;01mif\u001b[39;00m isok:\n\u001b[0;32m----> 7\u001b[0m     \u001b[43mos\u001b[49m\u001b[38;5;241;43m.\u001b[39;49m\u001b[43mremove\u001b[49m\u001b[43m \u001b[49m\u001b[43m(\u001b[49m\u001b[43mf_path\u001b[49m\u001b[43m)\u001b[49m\n\u001b[1;32m      8\u001b[0m     \u001b[38;5;28mprint\u001b[39m(\u001b[38;5;124m\"\u001b[39m\u001b[38;5;124mborrado\u001b[39m\u001b[38;5;124m\"\u001b[39m)\n\u001b[1;32m      9\u001b[0m \u001b[38;5;28;01melse\u001b[39;00m:\n",
      "\u001b[0;31mFileNotFoundError\u001b[0m: [Errno 2] No such file or directory: '/mnt/batch/tasks/shared/LS_root/mounts/clusters/juan-jose-lopez/code/Users/FormacionJL/WorkSpace/PythonFundamentals/files//sample.txt'"
     ]
    }
   ],
   "source": [
    "# os.remove()\n",
    "# os.rmdir()\n",
    "\n",
    "f_path = raiz +\"/sample.txt\"\n",
    "isok = os.path.isfile(f_path)\n",
    "if isok:\n",
    "    os.remove (f_path)\n",
    "    print(\"borrado\")\n",
    "else:\n",
    "    print(\"no existe\")\n"
   ]
  },
  {
   "cell_type": "code",
   "execution_count": 69,
   "metadata": {},
   "outputs": [
    {
     "name": "stdout",
     "output_type": "stream",
     "text": [
      "<_io.TextIOWrapper name='/mnt/batch/tasks/shared/LS_root/mounts/clusters/juan-jose-lopez/code/Users/FormacionJL/WorkSpace/PythonFundamentals/Datos/notas.csv' mode='r' encoding='UTF-8'>\n",
      "['N', 'a', 'm', 'e', ',', 'm', 'a', 't', 'h', 's', ',', 'l', 'a', 'n', 'g', '']\n",
      "['S', 'o', 's', 'a', 'n', 'n', 'a', ',', '4', ',', '3', '5', ',', '5', '']\n",
      "['R', 'o', 's', 'a', 'l', 'i', 'n', 'd', ',', '8', ',', '6', '1', '0', ',', '5', '']\n",
      "['G', 'a', 's', 'p', 'a', 'r', ',', '1', ',', '6', '7', ',', '5', '']\n",
      "['H', 'e', 'r', 'v', 'e', ',', '2', ',', '5', '8', ',', '2', '']\n",
      "['J', 'a', 'y', 'm', 'e', ',', '5', ',', '1', '1', '0', ',', '7', '']\n",
      "['D', 'a', 's', 'y', 'a', ',', '5', ',', '3', '8', ',', '2', '']\n",
      "['C', 'h', 'r', 'i', 's', 't', 'e', 'a', 'n', ',', '2', ',', '1', '0', '3', ',', '6', '']\n",
      "['R', 'i', 's', 'a', ',', '9', ',', '9', '2', ',', '7', '']\n",
      "['F', 'l', 'o', 'r', 'e', 'n', 'z', 'a', ',', '1', '0', ',', '6', '5', ',', '5', '']\n",
      "['D', 'o', 'n', 'e', 'l', 'l', 'a', ',', '1', '0', ',', '3', '8', ',', '3', '']\n",
      "['C', 'e', 's', 'a', 'r', 'o', ',', '2', ',', '4', '1', ',', '7', '']\n",
      "['B', 'e', 'a', 't', 'r', 'i', 's', 'a', ',', '9', ',', '2', '1', ',', '5', '']\n",
      "['T', 'h', 'a', 'i', 'n', ',', '1', ',', '7', '6', ',', '3', '']\n",
      "['S', 'h', 'a', 'y', 'l', 'a', 'h', ',', '6', ',', '7', '2', ',', '1', '']\n",
      "['A', 'n', 'n', 'e', '-', 'm', 'a', 'r', 'i', 'e', ',', '4', ',', '6', '4', ',', '3', '']\n",
      "['S', 'w', 'e', 'n', ',', '8', ',', '5', '7', ',', '6', '']\n",
      "['V', 'a', 'c', 'l', 'a', 'v', ',', '1', ',', '4', '9', ',', '1', '0', '']\n",
      "['H', 'e', 'r', 'm', 'i', 'n', 'e', ',', '2', ',', '1', '8', ',', '1', '']\n",
      "['S', 'y', 'b', 'y', 'l', ',', '1', '0', ',', '2', '3', ',', '1', '0', '']\n",
      "['Y', 'n', 'e', 's', ',', '6', ',', '1', '0', '3', ',', '2', '']\n",
      "['A', 'n', 't', 'o', 'n', 'i', 'e', ',', '9', ',', '3', '4', ',', '9', '']\n",
      "['T', 'r', 'i', 'x', 'i', 'e', ',', '9', ',', '1', '0', '5', ',', '4', '']\n",
      "['M', 'a', 't', 'h', 'i', 'l', 'd', 'e', ',', '4', ',', '5', '8', ',', '1', '']\n",
      "['M', 'e', 'r', 'l', 'i', 'n', 'a', ',', '6', ',', '8', '4', ',', '6', '']\n",
      "['Z', 'a', 'r', 'e', 'd', ',', '1', ',', '9', '5', ',', '3', '']\n",
      "['B', 'r', 'a', 'n', 'd', 'a', 'i', 's', ',', '3', ',', '3', '7', ',', '1', '']\n",
      "['R', 'e', 'g', 'g', 'i', 'e', ',', '1', '0', ',', '2', '1', '0', ',', '8', '']\n",
      "['B', 'u', 'r', 'k', ',', '8', ',', '7', '5', ',', '5', '']\n",
      "['S', 'e', 'y', 'm', 'o', 'u', 'r', ',', '5', ',', '8', '8', ',', '3', '']\n",
      "['F', 'e', 'r', 'g', 'u', 's', ',', '2', ',', '3', '5', ',', '5', '']\n",
      "['J', 'e', 'a', 'n', 'e', 't', 't', 'e', ',', '1', ',', '5', '5', ',', '4', '']\n",
      "['A', 'r', 't', 'h', 'e', 'r', ',', '5', ',', '5', '9', ',', '5', '']\n",
      "['A', 'v', 'i', 'c', 't', 'o', 'r', ',', '9', ',', '2', '8', ',', '5', '']\n",
      "['L', 'y', 'n', 'e', 't', 't', 'e', ',', '7', ',', '2', '1', '0', ',', '6', '']\n",
      "['B', 'r', 'i', 'a', 'n', 'o', ',', '2', ',', '2', '4', ',', '6', '']\n",
      "['D', 'a', 'v', 'e', 't', 'a', ',', '4', ',', '7', '2', ',', '9', '']\n",
      "['D', 'e', 'v', 'o', 'n', 'n', 'e', ',', '1', '0', ',', '2', '6', ',', '8', '']\n",
      "['C', 'h', 'i', 'a', 'r', 'r', 'a', ',', '6', ',', '1', '4', ',', '3', '']\n",
      "['T', 'o', 'r', 'r', 'e', 'y', ',', '2', ',', '9', '1', ',', '3', '']\n",
      "['H', 'a', 't', 't', 'i', 'e', ',', '2', ',', '5', '7', ',', '2', '']\n",
      "['F', 'l', 'o', 'r', 'e', 'n', 'z', 'a', ',', '1', '0', ',', '5', '4', ',', '4', '']\n",
      "['V', 'e', 'r', 'o', 'n', 'i', 'c', 'a', ',', '8', ',', '6', '3', ',', '4', '']\n",
      "['J', 'a', 'r', 'e', 'd', ',', '6', ',', '1', '1', ',', '3', '']\n",
      "['L', 'o', 'r', 'i', ',', '6', ',', '1', '1', '0', ',', '1', '0', '']\n",
      "['K', 'r', 'i', 's', 't', 'o', 'p', 'h', 'e', 'r', ',', '1', ',', '2', '4', ',', '9', '']\n",
      "['J', 'e', 'a', 'n', 'n', 'e', ',', '1', ',', '1', '1', ',', '4', '']\n",
      "['M', 'a', 'x', 'i', 'm', 'i', 'l', 'i', 'a', 'n', ',', '3', ',', '3', '1', '0', ',', '9', '']\n",
      "['M', 'e', 'r', 'r', 'i', 'l', 'y', ',', '5', ',', '7', '1', ',', '3', '']\n",
      "['S', 'k', 'i', 'p', 't', 'o', 'n', ',', '9', ',', '6', '4', ',', '9', '']\n",
      "['T', 'o', 'm', ',', '1', '0', ',', '5', '1', ',', '7', '']\n",
      "['C', 'i', 'r', 'i', 'l', 'o', ',', '2', ',', '2', '6', ',', '6', '']\n",
      "['W', 'a', 'r', 'd', 'e', ',', '8', ',', '7', '9', ',', '5', '']\n",
      "['W', 'o', 'o', 'd', 'i', 'e', ',', '1', '0', ',', '3', '2', ',', '1', '']\n",
      "['O', 'd', 'e', 't', 't', 'a', ',', '3', ',', '7', '7', ',', '9', '']\n",
      "['C', 'o', 'r', 'd', 'e', 'l', 'i', 'e', ',', '2', ',', '3', '9', ',', '1', '']\n",
      "['W', 'i', 'l', 'o', 'w', ',', '1', '0', ',', '8', '2', ',', '6', '']\n",
      "['C', 'h', 'a', 'r', 'i', 's', 's', 'a', ',', '5', ',', '3', '5', ',', '1', '0', '']\n",
      "['R', 'a', 'l', 'i', 'n', 'a', ',', '1', '0', ',', '9', '8', ',', '2', '']\n",
      "['C', 'h', 'a', 'r', 'i', 's', 's', 'e', ',', '6', ',', '5', '1', ',', '9', '']\n",
      "['H', 'u', 'n', 't', 'l', 'e', 'y', ',', '8', ',', '7', '1', '0', ',', '3', '']\n",
      "['E', 'l', 'l', 'a', ',', '4', ',', '3', '6', ',', '8', '']\n",
      "['N', 'e', 'l', 'l', 'i', ',', '2', ',', '6', '5', ',', '1', '0', '']\n",
      "['G', 'e', 'a', 'r', 'a', 'l', 't', ',', '4', ',', '9', '4', ',', '4', '']\n",
      "['Z', 'a', 'h', 'a', 'r', 'a', ',', '2', ',', '1', '1', ',', '4', '']\n",
      "['D', 'i', 'l', 'a', 'n', ',', '8', ',', '6', '7', ',', '6', '']\n",
      "['F', 'r', 'e', 'd', 'e', 'r', 'i', 'q', 'u', 'e', ',', '5', ',', '1', '0', '2', ',', '8', '']\n",
      "['S', 'a', 'b', 'a', ',', '9', ',', '8', '9', ',', '9', '']\n",
      "['N', 'a', 't', 'a', 'l', 'y', 'a', ',', '1', ',', '5', '5', ',', '2', '']\n",
      "['M', 'y', 'r', 'a', 'h', ',', '3', ',', '8', '3', ',', '5', '']\n",
      "['M', 'a', 'g', 'n', 'u', 'm', ',', '7', ',', '1', '2', ',', '9', '']\n",
      "['G', 'r', 'a', 'c', 'e', ',', '9', ',', '4', '6', ',', '6', '']\n",
      "['I', 'l', 'y', 's', 'a', ',', '1', '0', ',', '9', '8', ',', '8', '']\n",
      "['C', 'l', 'e', 'r', 'k', 'c', 'l', 'a', 'u', 'd', 'e', ',', '7', ',', '2', '1', '0', ',', '2', '']\n",
      "['Y', 'e', 't', 't', 'y', ',', '8', ',', '6', '2', ',', '4', '']\n",
      "['C', 'a', 's', 's', 'a', 'n', 'd', 'r', 'e', ',', '6', ',', '1', '9', ',', '5', '']\n",
      "['O', 'l', 'y', 'm', 'p', 'i', 'e', ',', '3', ',', '3', '1', '0', ',', '3', '']\n",
      "['J', 'o', 's', 'h', 'u', 'a', 'h', ',', '7', ',', '7', '9', ',', '2', '']\n",
      "['K', 'r', 'i', 's', 't', 'i', 'n', 'e', ',', '3', ',', '4', '7', ',', '7', '']\n",
      "['D', 'e', 'a', 'n', ',', '8', ',', '6', '1', '0', ',', '1', '0', '']\n",
      "['I', 'l', 'y', 's', 's', 'a', ',', '9', ',', '7', '5', ',', '3', '']\n",
      "['N', 'a', 'n', 'n', 'i', 'e', ',', '6', ',', '9', '2', ',', '1', '0', '']\n",
      "['F', 'e', 'o', 'd', 'o', 'r', ',', '5', ',', '6', '3', ',', '7', '']\n",
      "['G', 'u', 'g', 'l', 'i', 'e', 'l', 'm', 'a', ',', '1', '0', ',', '3', '9', ',', '6', '']\n",
      "['A', 'l', 'l', 'a', ',', '9', ',', '1', '0', '7', ',', '7', '']\n",
      "['R', 'o', 'w', 'l', 'a', 'n', 'd', ',', '4', ',', '1', '0', '8', ',', '7', '']\n",
      "['M', 'i', 'q', 'u', 'e', 'l', 'a', ',', '7', ',', '5', '2', ',', '7', '']\n",
      "['S', 'a', 'p', 'p', 'h', 'i', 'r', 'a', ',', '4', ',', '6', '5', ',', '2', '']\n",
      "['Z', 'o', 'r', 'i', 'n', 'a', ',', '3', ',', '2', '4', ',', '9', '']\n",
      "['R', 'o', 's', 'e', 'm', 'o', 'n', 'd', 'e', ',', '1', '0', ',', '6', '9', ',', '9', '']\n",
      "['A', 'l', 'i', 's', 'a', ',', '1', ',', '4', '9', ',', '5', '']\n",
      "['G', 'i', 'n', 'g', 'e', 'r', ',', '3', ',', '4', '1', ',', '2', '']\n",
      "['K', 'a', 'r', 'l', 'i', 's', ',', '9', ',', '8', '3', ',', '1', '']\n",
      "['R', 'o', 'b', 'b', 'i', 'n', ',', '7', ',', '5', '1', '0', ',', '8', '']\n",
      "['K', 'i', 'm', 'b', 'e', 'r', 'l', 'y', ',', '3', ',', '7', '8', ',', '1', '']\n",
      "['U', 'd', 'a', 'l', 'e', ',', '7', ',', '1', '1', ',', '7', '']\n",
      "['I', 's', 'i', 'd', 'o', 'r', ',', '8', ',', '2', '6', ',', '3', '']\n",
      "['F', 'a', 'r', 'l', 'e', 'e', ',', '5', ',', '1', '0', '9', ',', '9', '']\n",
      "['K', 'a', 't', 'l', 'e', 'e', 'n', ',', '8', ',', '6', '9', ',', '3', '']\n",
      "['N', 'a', 'n', 'i', 'n', 'e', ',', '5', ',', '7', '9', ',', '9', '']\n",
      "['M', 'a', 'r', 'l', 'o', 'w', ',', '2', ',', '4', '5', ',', '2']\n"
     ]
    }
   ],
   "source": [
    "import statistics as st\n",
    "\n",
    "raiz = \"/mnt/batch/tasks/shared/LS_root/mounts/clusters/juan-jose-lopez/code/Users/FormacionJL/WorkSpace/PythonFundamentals/\"\n",
    "prueba = (raiz + 'Datos/notas.csv')\n",
    "\n",
    "\n",
    "try:\n",
    "    fin = open(raiz + 'Datos/notas.csv','r')\n",
    "    print(fin)\n",
    "\n",
    "    for line in fin:\n",
    "    \n",
    "        trozo = list(line[::1])\n",
    "        lista_limpia = list(map(lambda l: l.rstrip(),trozo))\n",
    "        print(lista_limpia)\n",
    "\n",
    "except error as err:\n",
    "    print('prueblema con acceso33', err)\n"
   ]
  },
  {
   "cell_type": "code",
   "execution_count": null,
   "metadata": {},
   "outputs": [],
   "source": []
  }
 ],
 "metadata": {
  "kernelspec": {
   "display_name": "Python 3 (ipykernel)",
   "language": "python",
   "name": "python3"
  },
  "language_info": {
   "codemirror_mode": {
    "name": "ipython",
    "version": 3
   },
   "file_extension": ".py",
   "mimetype": "text/x-python",
   "name": "python",
   "nbconvert_exporter": "python",
   "pygments_lexer": "ipython3",
   "version": "3.10.11"
  }
 },
 "nbformat": 4,
 "nbformat_minor": 2
}
